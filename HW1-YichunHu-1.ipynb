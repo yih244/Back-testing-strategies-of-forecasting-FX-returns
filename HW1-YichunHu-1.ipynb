{
 "cells": [
  {
   "cell_type": "markdown",
   "metadata": {},
   "source": [
    "## HW1 \n",
    "## Yichun Hu"
   ]
  },
  {
   "cell_type": "markdown",
   "metadata": {},
   "source": [
    "### Problem 1"
   ]
  },
  {
   "cell_type": "code",
   "execution_count": 5,
   "metadata": {},
   "outputs": [],
   "source": [
    "import numpy as np\n",
    "import pandas as pd\n",
    "import matplotlib.pyplot as plt\n",
    "from scipy import stats"
   ]
  },
  {
   "cell_type": "code",
   "execution_count": 6,
   "metadata": {},
   "outputs": [],
   "source": [
    "data1 = pd.read_excel(\"HW1_Due20200927.xlsx\", sheet_name = \"DataSource\", header = 1)\n",
    "data1_vix = data1.iloc[:,0:2]"
   ]
  },
  {
   "cell_type": "code",
   "execution_count": 7,
   "metadata": {},
   "outputs": [
    {
     "data": {
      "text/html": [
       "<div>\n",
       "<style scoped>\n",
       "    .dataframe tbody tr th:only-of-type {\n",
       "        vertical-align: middle;\n",
       "    }\n",
       "\n",
       "    .dataframe tbody tr th {\n",
       "        vertical-align: top;\n",
       "    }\n",
       "\n",
       "    .dataframe thead th {\n",
       "        text-align: right;\n",
       "    }\n",
       "</style>\n",
       "<table border=\"1\" class=\"dataframe\">\n",
       "  <thead>\n",
       "    <tr style=\"text-align: right;\">\n",
       "      <th></th>\n",
       "      <th>Date</th>\n",
       "      <th>Price</th>\n",
       "      <th>return</th>\n",
       "    </tr>\n",
       "  </thead>\n",
       "  <tbody>\n",
       "    <tr>\n",
       "      <th>0</th>\n",
       "      <td>1999-01-15</td>\n",
       "      <td>29.24</td>\n",
       "      <td>NaN</td>\n",
       "    </tr>\n",
       "    <tr>\n",
       "      <th>1</th>\n",
       "      <td>1999-01-19</td>\n",
       "      <td>29.24</td>\n",
       "      <td>0.000000</td>\n",
       "    </tr>\n",
       "    <tr>\n",
       "      <th>2</th>\n",
       "      <td>1999-01-20</td>\n",
       "      <td>28.60</td>\n",
       "      <td>-0.021888</td>\n",
       "    </tr>\n",
       "    <tr>\n",
       "      <th>3</th>\n",
       "      <td>1999-01-21</td>\n",
       "      <td>30.92</td>\n",
       "      <td>0.081119</td>\n",
       "    </tr>\n",
       "    <tr>\n",
       "      <th>4</th>\n",
       "      <td>1999-01-22</td>\n",
       "      <td>31.95</td>\n",
       "      <td>0.033312</td>\n",
       "    </tr>\n",
       "  </tbody>\n",
       "</table>\n",
       "</div>"
      ],
      "text/plain": [
       "        Date  Price    return\n",
       "0 1999-01-15  29.24       NaN\n",
       "1 1999-01-19  29.24  0.000000\n",
       "2 1999-01-20  28.60 -0.021888\n",
       "3 1999-01-21  30.92  0.081119\n",
       "4 1999-01-22  31.95  0.033312"
      ]
     },
     "execution_count": 7,
     "metadata": {},
     "output_type": "execute_result"
    }
   ],
   "source": [
    "data1_vix['return'] = data1_vix['Price'].pct_change()\n",
    "data1_vix.head()"
   ]
  },
  {
   "cell_type": "markdown",
   "metadata": {},
   "source": [
    "#### skewness"
   ]
  },
  {
   "cell_type": "code",
   "execution_count": 8,
   "metadata": {},
   "outputs": [
    {
     "data": {
      "text/plain": [
       "2.0147831512243357"
      ]
     },
     "execution_count": 8,
     "metadata": {},
     "output_type": "execute_result"
    }
   ],
   "source": [
    "data1_vix['return'].dropna().skew()"
   ]
  },
  {
   "cell_type": "markdown",
   "metadata": {},
   "source": [
    "#### kurtosis"
   ]
  },
  {
   "cell_type": "code",
   "execution_count": 9,
   "metadata": {},
   "outputs": [
    {
     "data": {
      "text/plain": [
       "19.302523257228803"
      ]
     },
     "execution_count": 9,
     "metadata": {},
     "output_type": "execute_result"
    }
   ],
   "source": [
    "data1_vix['return'].dropna().kurtosis()"
   ]
  },
  {
   "cell_type": "markdown",
   "metadata": {},
   "source": [
    "#### mean"
   ]
  },
  {
   "cell_type": "code",
   "execution_count": 10,
   "metadata": {},
   "outputs": [
    {
     "data": {
      "text/plain": [
       "0.002357136485960589"
      ]
     },
     "execution_count": 10,
     "metadata": {},
     "output_type": "execute_result"
    }
   ],
   "source": [
    "data1_vix['return'].dropna().mean()"
   ]
  },
  {
   "cell_type": "markdown",
   "metadata": {},
   "source": [
    "#### normality test"
   ]
  },
  {
   "cell_type": "code",
   "execution_count": 11,
   "metadata": {},
   "outputs": [
    {
     "data": {
      "text/plain": [
       "<matplotlib.axes._subplots.AxesSubplot at 0x1a21a24eb8>"
      ]
     },
     "execution_count": 11,
     "metadata": {},
     "output_type": "execute_result"
    },
    {
     "data": {
      "image/png": "[encoded data removed]",
      "text/plain": [
       "<Figure size 720x432 with 1 Axes>"
      ]
     },
     "metadata": {
      "needs_background": "light"
     },
     "output_type": "display_data"
    }
   ],
   "source": [
    "data1_vix['return'].hist(bins = 50, figsize = (10,6), grid = True)"
   ]
  },
  {
   "cell_type": "code",
   "execution_count": 12,
   "metadata": {},
   "outputs": [
    {
     "data": {
      "text/plain": [
       "KstestResult(statistic=0.43284430209658664, pvalue=0.0)"
      ]
     },
     "execution_count": 12,
     "metadata": {},
     "output_type": "execute_result"
    }
   ],
   "source": [
    "# KS test\n",
    "stats.kstest(data1_vix['return'].dropna(),'norm')"
   ]
  },
  {
   "cell_type": "markdown",
   "metadata": {},
   "source": [
    "#### From the histogram above, we can observe that the distribution of VIX return is right skewed with a long tail at the right side.\n",
    "#### And from the KS test that has 0.0 as pvalue, we can reject the hypothesis that the sample is normally distributed.So that we can make the conclusion that the VIX daily return were not normally distributed"
   ]
  },
  {
   "cell_type": "markdown",
   "metadata": {},
   "source": [
    "### Problem 2"
   ]
  },
  {
   "cell_type": "code",
   "execution_count": 13,
   "metadata": {},
   "outputs": [],
   "source": [
    "data1_spy = data1.iloc[:,3:]"
   ]
  },
  {
   "cell_type": "code",
   "execution_count": 14,
   "metadata": {},
   "outputs": [
    {
     "data": {
      "text/html": [
       "<div>\n",
       "<style scoped>\n",
       "    .dataframe tbody tr th:only-of-type {\n",
       "        vertical-align: middle;\n",
       "    }\n",
       "\n",
       "    .dataframe tbody tr th {\n",
       "        vertical-align: top;\n",
       "    }\n",
       "\n",
       "    .dataframe thead th {\n",
       "        text-align: right;\n",
       "    }\n",
       "</style>\n",
       "<table border=\"1\" class=\"dataframe\">\n",
       "  <thead>\n",
       "    <tr style=\"text-align: right;\">\n",
       "      <th></th>\n",
       "      <th>Date</th>\n",
       "      <th>Price</th>\n",
       "    </tr>\n",
       "  </thead>\n",
       "  <tbody>\n",
       "    <tr>\n",
       "      <th>0</th>\n",
       "      <td>1999-01-15</td>\n",
       "      <td>124.3750</td>\n",
       "    </tr>\n",
       "    <tr>\n",
       "      <th>1</th>\n",
       "      <td>1999-01-19</td>\n",
       "      <td>125.1875</td>\n",
       "    </tr>\n",
       "    <tr>\n",
       "      <th>2</th>\n",
       "      <td>1999-01-20</td>\n",
       "      <td>126.1875</td>\n",
       "    </tr>\n",
       "    <tr>\n",
       "      <th>3</th>\n",
       "      <td>1999-01-21</td>\n",
       "      <td>122.8438</td>\n",
       "    </tr>\n",
       "    <tr>\n",
       "      <th>4</th>\n",
       "      <td>1999-01-22</td>\n",
       "      <td>122.5625</td>\n",
       "    </tr>\n",
       "  </tbody>\n",
       "</table>\n",
       "</div>"
      ],
      "text/plain": [
       "        Date     Price\n",
       "0 1999-01-15  124.3750\n",
       "1 1999-01-19  125.1875\n",
       "2 1999-01-20  126.1875\n",
       "3 1999-01-21  122.8438\n",
       "4 1999-01-22  122.5625"
      ]
     },
     "execution_count": 14,
     "metadata": {},
     "output_type": "execute_result"
    }
   ],
   "source": [
    "data1_spy.columns = ['Date','Price'] \n",
    "data1_spy.head()"
   ]
  },
  {
   "cell_type": "code",
   "execution_count": 15,
   "metadata": {},
   "outputs": [
    {
     "data": {
      "text/html": [
       "<div>\n",
       "<style scoped>\n",
       "    .dataframe tbody tr th:only-of-type {\n",
       "        vertical-align: middle;\n",
       "    }\n",
       "\n",
       "    .dataframe tbody tr th {\n",
       "        vertical-align: top;\n",
       "    }\n",
       "\n",
       "    .dataframe thead th {\n",
       "        text-align: right;\n",
       "    }\n",
       "</style>\n",
       "<table border=\"1\" class=\"dataframe\">\n",
       "  <thead>\n",
       "    <tr style=\"text-align: right;\">\n",
       "      <th></th>\n",
       "      <th>Date</th>\n",
       "      <th>Price</th>\n",
       "      <th>return</th>\n",
       "    </tr>\n",
       "  </thead>\n",
       "  <tbody>\n",
       "    <tr>\n",
       "      <th>0</th>\n",
       "      <td>1999-01-15</td>\n",
       "      <td>124.3750</td>\n",
       "      <td>NaN</td>\n",
       "    </tr>\n",
       "    <tr>\n",
       "      <th>1</th>\n",
       "      <td>1999-01-19</td>\n",
       "      <td>125.1875</td>\n",
       "      <td>0.006533</td>\n",
       "    </tr>\n",
       "    <tr>\n",
       "      <th>2</th>\n",
       "      <td>1999-01-20</td>\n",
       "      <td>126.1875</td>\n",
       "      <td>0.007988</td>\n",
       "    </tr>\n",
       "    <tr>\n",
       "      <th>3</th>\n",
       "      <td>1999-01-21</td>\n",
       "      <td>122.8438</td>\n",
       "      <td>-0.026498</td>\n",
       "    </tr>\n",
       "    <tr>\n",
       "      <th>4</th>\n",
       "      <td>1999-01-22</td>\n",
       "      <td>122.5625</td>\n",
       "      <td>-0.002290</td>\n",
       "    </tr>\n",
       "  </tbody>\n",
       "</table>\n",
       "</div>"
      ],
      "text/plain": [
       "        Date     Price    return\n",
       "0 1999-01-15  124.3750       NaN\n",
       "1 1999-01-19  125.1875  0.006533\n",
       "2 1999-01-20  126.1875  0.007988\n",
       "3 1999-01-21  122.8438 -0.026498\n",
       "4 1999-01-22  122.5625 -0.002290"
      ]
     },
     "execution_count": 15,
     "metadata": {},
     "output_type": "execute_result"
    }
   ],
   "source": [
    "data1_spy['return'] = data1_spy['Price'].pct_change()\n",
    "data1_spy.head()"
   ]
  },
  {
   "cell_type": "code",
   "execution_count": 17,
   "metadata": {},
   "outputs": [
    {
     "data": {
      "image/png": "[encoded data removed]",
      "text/plain": [
       "<Figure size 576x432 with 1 Axes>"
      ]
     },
     "metadata": {
      "needs_background": "light"
     },
     "output_type": "display_data"
    }
   ],
   "source": [
    "data1_spy['ann_return_vol'] = data1_spy['return'].dropna().rolling(252).std()*np.sqrt(252)\n",
    "plt.figure(figsize = (8,6))\n",
    "plt.plot(data1_spy['Date'], data1_spy['ann_return_vol'])\n",
    "plt.title(\"Annualized return volatilities\");"
   ]
  },
  {
   "cell_type": "code",
   "execution_count": 18,
   "metadata": {},
   "outputs": [],
   "source": [
    "def semistd(data):\n",
    "    newdata = []\n",
    "    for i in data:\n",
    "        if i < 0:\n",
    "            newdata.append(i)\n",
    "    return np.std(newdata)\n",
    "    #return newdata['return'].std()*np.sqrt(len(newdata)) "
   ]
  },
  {
   "cell_type": "code",
   "execution_count": 19,
   "metadata": {},
   "outputs": [
    {
     "name": "stderr",
     "output_type": "stream",
     "text": [
      "/Users/xialu/anaconda3/lib/python3.7/site-packages/ipykernel_launcher.py:1: FutureWarning: Currently, 'apply' passes the values as ndarrays to the applied function. In the future, this will change to passing it as Series objects. You need to specify 'raw=True' to keep the current behaviour, and you can pass 'raw=False' to silence this warning\n",
      "  \"\"\"Entry point for launching an IPython kernel.\n"
     ]
    }
   ],
   "source": [
    "data1_spy['ann_return_semivol'] = data1_spy['return'].rolling(252).apply(semistd)*np.sqrt(252)"
   ]
  },
  {
   "cell_type": "code",
   "execution_count": 20,
   "metadata": {},
   "outputs": [
    {
     "data": {
      "image/png": "[encoded data removed]",
      "text/plain": [
       "<Figure size 576x432 with 1 Axes>"
      ]
     },
     "metadata": {
      "needs_background": "light"
     },
     "output_type": "display_data"
    }
   ],
   "source": [
    "plt.figure(figsize = (8,6))\n",
    "plt.plot(data1_spy['Date'], data1_spy['ann_return_semivol'])\n",
    "plt.title(\"Annualized return semi-volatilities\");"
   ]
  },
  {
   "cell_type": "code",
   "execution_count": 21,
   "metadata": {},
   "outputs": [
    {
     "data": {
      "text/html": [
       "<div>\n",
       "<style scoped>\n",
       "    .dataframe tbody tr th:only-of-type {\n",
       "        vertical-align: middle;\n",
       "    }\n",
       "\n",
       "    .dataframe tbody tr th {\n",
       "        vertical-align: top;\n",
       "    }\n",
       "\n",
       "    .dataframe thead th {\n",
       "        text-align: right;\n",
       "    }\n",
       "</style>\n",
       "<table border=\"1\" class=\"dataframe\">\n",
       "  <thead>\n",
       "    <tr style=\"text-align: right;\">\n",
       "      <th></th>\n",
       "      <th>Date</th>\n",
       "      <th>Price</th>\n",
       "      <th>return</th>\n",
       "    </tr>\n",
       "  </thead>\n",
       "  <tbody>\n",
       "    <tr>\n",
       "      <th>0</th>\n",
       "      <td>2018-01-02</td>\n",
       "      <td>268.77</td>\n",
       "      <td>0.007157</td>\n",
       "    </tr>\n",
       "    <tr>\n",
       "      <th>1</th>\n",
       "      <td>2018-01-03</td>\n",
       "      <td>270.47</td>\n",
       "      <td>0.006325</td>\n",
       "    </tr>\n",
       "    <tr>\n",
       "      <th>2</th>\n",
       "      <td>2018-01-04</td>\n",
       "      <td>271.61</td>\n",
       "      <td>0.004215</td>\n",
       "    </tr>\n",
       "    <tr>\n",
       "      <th>3</th>\n",
       "      <td>2018-01-05</td>\n",
       "      <td>273.42</td>\n",
       "      <td>0.006664</td>\n",
       "    </tr>\n",
       "    <tr>\n",
       "      <th>4</th>\n",
       "      <td>2018-01-08</td>\n",
       "      <td>273.92</td>\n",
       "      <td>0.001829</td>\n",
       "    </tr>\n",
       "  </tbody>\n",
       "</table>\n",
       "</div>"
      ],
      "text/plain": [
       "        Date   Price    return\n",
       "0 2018-01-02  268.77  0.007157\n",
       "1 2018-01-03  270.47  0.006325\n",
       "2 2018-01-04  271.61  0.004215\n",
       "3 2018-01-05  273.42  0.006664\n",
       "4 2018-01-08  273.92  0.001829"
      ]
     },
     "execution_count": 21,
     "metadata": {},
     "output_type": "execute_result"
    }
   ],
   "source": [
    "data1_spy_2018 = data1_spy[data1_spy['Date'].dt.year == 2018].iloc[:,0:3].reset_index(drop=True)\n",
    "data1_spy_2018.head()"
   ]
  },
  {
   "cell_type": "code",
   "execution_count": 22,
   "metadata": {},
   "outputs": [
    {
     "data": {
      "text/plain": [
       "0.055776892430278883"
      ]
     },
     "execution_count": 22,
     "metadata": {},
     "output_type": "execute_result"
    }
   ],
   "source": [
    "len(data1_spy_2018[data1_spy_2018['return'] < -0.02])/len(data1_spy_2018)"
   ]
  },
  {
   "cell_type": "code",
   "execution_count": 23,
   "metadata": {},
   "outputs": [
    {
     "data": {
      "text/plain": [
       "-0.02144958473986508"
      ]
     },
     "execution_count": 23,
     "metadata": {},
     "output_type": "execute_result"
    }
   ],
   "source": [
    "Var = data1_spy_2018['return'].quantile(0.05)\n",
    "Var"
   ]
  },
  {
   "cell_type": "code",
   "execution_count": 25,
   "metadata": {},
   "outputs": [
    {
     "data": {
      "text/plain": [
       "-0.02786116034896852"
      ]
     },
     "execution_count": 25,
     "metadata": {},
     "output_type": "execute_result"
    }
   ],
   "source": [
    "Cvar = data1_spy_2018[data1_spy_2018['return'] < Var]['return'].mean()\n",
    "Cvar"
   ]
  },
  {
   "cell_type": "markdown",
   "metadata": {},
   "source": [
    "#### Drawdowns"
   ]
  },
  {
   "cell_type": "code",
   "execution_count": 34,
   "metadata": {},
   "outputs": [],
   "source": [
    "data1_spy['portval_vec'] = (1+data1_spy['return']).cumprod()\n",
    "data1_spy['drawdown'] = data1_spy['portval_vec'] - data1_spy['portval_vec'].cummax()"
   ]
  },
  {
   "cell_type": "code",
   "execution_count": 49,
   "metadata": {},
   "outputs": [
    {
     "data": {
      "text/plain": [
       "-0.7105125628140673"
      ]
     },
     "execution_count": 49,
     "metadata": {},
     "output_type": "execute_result"
    }
   ],
   "source": [
    "MDD = data1_spy['drawdown'].min()   \n",
    "MDD"
   ]
  },
  {
   "cell_type": "code",
   "execution_count": 55,
   "metadata": {},
   "outputs": [
    {
     "data": {
      "text/plain": [
       "2550   2009-03-09\n",
       "Name: Date, dtype: datetime64[ns]"
      ]
     },
     "execution_count": 55,
     "metadata": {},
     "output_type": "execute_result"
    }
   ],
   "source": [
    "date = data1_spy[data1_spy['drawdown'] == MDD].Date\n",
    "date"
   ]
  },
  {
   "cell_type": "code",
   "execution_count": 57,
   "metadata": {},
   "outputs": [
    {
     "data": {
      "image/png": "[encoded data removed]",
      "text/plain": [
       "<Figure size 576x432 with 2 Axes>"
      ]
     },
     "metadata": {
      "needs_background": "light"
     },
     "output_type": "display_data"
    }
   ],
   "source": [
    "fig, ax1 = plt.subplots(figsize = (8,6))\n",
    "ax2 = ax1.twinx()\n",
    "ax1.plot(data1_spy['Date'], data1_spy['portval_vec'],'g-')\n",
    "ax1.set_ylabel('portal value', color = 'g')\n",
    "ax2.plot(data1_spy['Date'], data1_spy['drawdown'], 'r-')\n",
    "ax2.set_ylabel('drawdown', color = 'r')\n",
    "ax2.annotate('MDD', xy=(date, MDD));"
   ]
  },
  {
   "cell_type": "markdown",
   "metadata": {},
   "source": [
    "### Problem 3"
   ]
  },
  {
   "cell_type": "markdown",
   "metadata": {},
   "source": [
    "### 1."
   ]
  },
  {
   "cell_type": "code",
   "execution_count": 61,
   "metadata": {},
   "outputs": [
    {
     "data": {
      "text/html": [
       "<div>\n",
       "<style scoped>\n",
       "    .dataframe tbody tr th:only-of-type {\n",
       "        vertical-align: middle;\n",
       "    }\n",
       "\n",
       "    .dataframe tbody tr th {\n",
       "        vertical-align: top;\n",
       "    }\n",
       "\n",
       "    .dataframe thead th {\n",
       "        text-align: right;\n",
       "    }\n",
       "</style>\n",
       "<table border=\"1\" class=\"dataframe\">\n",
       "  <thead>\n",
       "    <tr style=\"text-align: right;\">\n",
       "      <th></th>\n",
       "      <th>Period Ending</th>\n",
       "      <th>Bloomberg Barclays - U.S. TIPS Index</th>\n",
       "      <th>Bloomberg Barclays - U.S. Aggregate Index</th>\n",
       "      <th>BofA Merrill Lynch - U.S. High Yield Index</th>\n",
       "      <th>FTSE - Non U.S. Govt Bond Index ($)</th>\n",
       "      <th>Russell - 1000 Growth Index</th>\n",
       "      <th>Russell - 1000 Value Index</th>\n",
       "      <th>Russell - 2000 Growth Index</th>\n",
       "      <th>Russell - 2000 Value Index</th>\n",
       "      <th>MSCI - EAFE Index ($Net)</th>\n",
       "      <th>MSCI - Emerging Markets Index ($ Net)</th>\n",
       "      <th>S&amp;P - GSCI Total Index</th>\n",
       "      <th>MSCI - U.S. REIT Index</th>\n",
       "    </tr>\n",
       "  </thead>\n",
       "  <tbody>\n",
       "    <tr>\n",
       "      <th>0</th>\n",
       "      <td>1999-01-31</td>\n",
       "      <td>1.164369</td>\n",
       "      <td>0.71</td>\n",
       "      <td>1.35</td>\n",
       "      <td>-1.57</td>\n",
       "      <td>5.87</td>\n",
       "      <td>0.80</td>\n",
       "      <td>4.50</td>\n",
       "      <td>-2.27</td>\n",
       "      <td>-0.30</td>\n",
       "      <td>-1.507453</td>\n",
       "      <td>0.440000</td>\n",
       "      <td>-2.685540</td>\n",
       "    </tr>\n",
       "    <tr>\n",
       "      <th>1</th>\n",
       "      <td>1999-02-28</td>\n",
       "      <td>-0.698657</td>\n",
       "      <td>-1.75</td>\n",
       "      <td>-0.68</td>\n",
       "      <td>-3.51</td>\n",
       "      <td>-4.57</td>\n",
       "      <td>-1.41</td>\n",
       "      <td>-9.15</td>\n",
       "      <td>-6.83</td>\n",
       "      <td>-2.38</td>\n",
       "      <td>0.963531</td>\n",
       "      <td>-4.600000</td>\n",
       "      <td>-1.644916</td>\n",
       "    </tr>\n",
       "    <tr>\n",
       "      <th>2</th>\n",
       "      <td>1999-03-31</td>\n",
       "      <td>-0.014495</td>\n",
       "      <td>0.55</td>\n",
       "      <td>1.16</td>\n",
       "      <td>0.19</td>\n",
       "      <td>5.27</td>\n",
       "      <td>2.07</td>\n",
       "      <td>3.56</td>\n",
       "      <td>-0.82</td>\n",
       "      <td>4.17</td>\n",
       "      <td>13.214558</td>\n",
       "      <td>16.879999</td>\n",
       "      <td>-0.545957</td>\n",
       "    </tr>\n",
       "    <tr>\n",
       "      <th>3</th>\n",
       "      <td>1999-04-30</td>\n",
       "      <td>0.661948</td>\n",
       "      <td>0.32</td>\n",
       "      <td>1.83</td>\n",
       "      <td>-0.15</td>\n",
       "      <td>0.13</td>\n",
       "      <td>9.34</td>\n",
       "      <td>8.83</td>\n",
       "      <td>9.13</td>\n",
       "      <td>4.05</td>\n",
       "      <td>12.370000</td>\n",
       "      <td>4.130000</td>\n",
       "      <td>9.669238</td>\n",
       "    </tr>\n",
       "    <tr>\n",
       "      <th>4</th>\n",
       "      <td>1999-05-31</td>\n",
       "      <td>0.688692</td>\n",
       "      <td>-0.88</td>\n",
       "      <td>-0.92</td>\n",
       "      <td>-2.02</td>\n",
       "      <td>-3.07</td>\n",
       "      <td>-1.10</td>\n",
       "      <td>0.16</td>\n",
       "      <td>3.07</td>\n",
       "      <td>-5.15</td>\n",
       "      <td>-0.580000</td>\n",
       "      <td>-5.460000</td>\n",
       "      <td>2.119436</td>\n",
       "    </tr>\n",
       "  </tbody>\n",
       "</table>\n",
       "</div>"
      ],
      "text/plain": [
       "  Period Ending  Bloomberg Barclays - U.S. TIPS Index  \\\n",
       "0    1999-01-31                              1.164369   \n",
       "1    1999-02-28                             -0.698657   \n",
       "2    1999-03-31                             -0.014495   \n",
       "3    1999-04-30                              0.661948   \n",
       "4    1999-05-31                              0.688692   \n",
       "\n",
       "   Bloomberg Barclays - U.S. Aggregate Index  \\\n",
       "0                                       0.71   \n",
       "1                                      -1.75   \n",
       "2                                       0.55   \n",
       "3                                       0.32   \n",
       "4                                      -0.88   \n",
       "\n",
       "   BofA Merrill Lynch - U.S. High Yield Index  \\\n",
       "0                                        1.35   \n",
       "1                                       -0.68   \n",
       "2                                        1.16   \n",
       "3                                        1.83   \n",
       "4                                       -0.92   \n",
       "\n",
       "   FTSE - Non U.S. Govt Bond Index ($)  Russell - 1000 Growth Index  \\\n",
       "0                                -1.57                         5.87   \n",
       "1                                -3.51                        -4.57   \n",
       "2                                 0.19                         5.27   \n",
       "3                                -0.15                         0.13   \n",
       "4                                -2.02                        -3.07   \n",
       "\n",
       "   Russell - 1000 Value Index  Russell - 2000 Growth Index  \\\n",
       "0                        0.80                         4.50   \n",
       "1                       -1.41                        -9.15   \n",
       "2                        2.07                         3.56   \n",
       "3                        9.34                         8.83   \n",
       "4                       -1.10                         0.16   \n",
       "\n",
       "   Russell - 2000 Value Index  MSCI - EAFE Index ($Net)  \\\n",
       "0                       -2.27                     -0.30   \n",
       "1                       -6.83                     -2.38   \n",
       "2                       -0.82                      4.17   \n",
       "3                        9.13                      4.05   \n",
       "4                        3.07                     -5.15   \n",
       "\n",
       "   MSCI - Emerging Markets Index ($ Net)  S&P - GSCI Total Index  \\\n",
       "0                              -1.507453                0.440000   \n",
       "1                               0.963531               -4.600000   \n",
       "2                              13.214558               16.879999   \n",
       "3                              12.370000                4.130000   \n",
       "4                              -0.580000               -5.460000   \n",
       "\n",
       "   MSCI - U.S. REIT Index  \n",
       "0               -2.685540  \n",
       "1               -1.644916  \n",
       "2               -0.545957  \n",
       "3                9.669238  \n",
       "4                2.119436  "
      ]
     },
     "execution_count": 61,
     "metadata": {},
     "output_type": "execute_result"
    }
   ],
   "source": [
    "data2 = pd.read_excel(\"HW1_Due20200927.xlsx\", sheet_name = \"DataSource_CAPMAssetClasses\", header = 1)\n",
    "data2.head()"
   ]
  },
  {
   "cell_type": "code",
   "execution_count": 62,
   "metadata": {},
   "outputs": [],
   "source": [
    "data2 = data2.set_index('Period Ending')\n",
    "sigma = data2.cov()*12"
   ]
  },
  {
   "cell_type": "code",
   "execution_count": 110,
   "metadata": {},
   "outputs": [],
   "source": [
    "expret = []\n",
    "for i in data2.columns:\n",
    "    expret.append(stats.gmean(1+0.01*data2[i])**12*100-100)\n",
    "dict_expret ={k:v for k,v in zip(data2.columns,expret)}"
   ]
  },
  {
   "cell_type": "code",
   "execution_count": 111,
   "metadata": {},
   "outputs": [
    {
     "data": {
      "text/plain": [
       "{'Bloomberg Barclays - U.S. TIPS Index': 5.204746074877576,\n",
       " 'Bloomberg Barclays - U.S. Aggregate Index': 4.549060800291912,\n",
       " 'BofA Merrill Lynch - U.S. High Yield Index': 6.301819821880386,\n",
       " 'FTSE - Non U.S. Govt Bond Index ($)': 3.4046473974352836,\n",
       " 'Russell - 1000 Growth Index': 5.054798898756175,\n",
       " 'Russell - 1000 Value Index': 6.1542827146389385,\n",
       " 'Russell - 2000 Growth Index': 6.1399491914584985,\n",
       " 'Russell - 2000 Value Index': 8.227702012485906,\n",
       " 'MSCI - EAFE Index ($Net)': 3.5211300300243664,\n",
       " 'MSCI - Emerging Markets Index ($ Net)': 8.517774129308137,\n",
       " 'S&P - GSCI Total Index': 0.5697543252556159,\n",
       " 'MSCI - U.S. REIT Index': 9.651476941933026}"
      ]
     },
     "execution_count": 111,
     "metadata": {},
     "output_type": "execute_result"
    }
   ],
   "source": [
    "dict_expret"
   ]
  },
  {
   "cell_type": "code",
   "execution_count": 91,
   "metadata": {},
   "outputs": [
    {
     "data": {
      "text/plain": [
       "[array([-0.26479199,  1.20175145,  0.04951453, -0.04803426,  0.03107269,\n",
       "         0.07572186, -0.00318499,  0.03723636, -0.03350547, -0.02416522,\n",
       "         0.03334852, -0.05496348]),\n",
       " array([-0.18281607,  1.1266578 ,  0.08328334, -0.06954315,  0.06533554,\n",
       "         0.04304435, -0.05857769,  0.12382533, -0.13657334,  0.04459294,\n",
       "         0.01142395, -0.05065302])]"
      ]
     },
     "execution_count": 91,
     "metadata": {},
     "output_type": "execute_result"
    }
   ],
   "source": [
    "e = np.ones(len(data2.columns)).transpose()\n",
    "sigma_inv = np.linalg.inv(sigma)\n",
    "w_minv = np.dot(sigma_inv,e)/np.dot(np.dot(e.transpose(),sigma_inv),e)\n",
    "w_msr = np.dot(sigma_inv,expret)/np.dot(np.dot(e.transpose(),sigma_inv),expret)\n",
    "[w_minv,w_msr]"
   ]
  },
  {
   "cell_type": "code",
   "execution_count": 82,
   "metadata": {},
   "outputs": [],
   "source": [
    "from scipy import optimize"
   ]
  },
  {
   "cell_type": "code",
   "execution_count": 98,
   "metadata": {},
   "outputs": [],
   "source": [
    "def minvar(w,sigma):\n",
    "    return np.dot(np.dot(w,sigma),w.transpose())\n",
    "target_minv = w_minv.dot(expret)\n",
    "target_msr = w_msr.dot(expret)\n",
    "constraint = optimize.LinearConstraint([e.transpose(),expret], lb=[1,0], ub=[1,target_minv])"
   ]
  },
  {
   "cell_type": "code",
   "execution_count": 99,
   "metadata": {},
   "outputs": [],
   "source": [
    "res = optimize.minimize(\n",
    "    minvar, x0=[0.5 for i in range(len(data2.columns))], args=(sigma,), constraints=constraint, bounds=[(0, 1) for i in range(len(data2.columns))],\n",
    ")"
   ]
  },
  {
   "cell_type": "code",
   "execution_count": 100,
   "metadata": {},
   "outputs": [
    {
     "data": {
      "text/plain": [
       "     fun: 11.417659781419372\n",
       "     jac: array([30.8512789 , 20.43517995, 22.39850378, 33.4520247 , 15.33239067,\n",
       "       13.07483912, 14.86196697, 13.58619034, 30.82944167, 41.47568309,\n",
       "       60.68033242, 40.2532804 ])\n",
       " message: 'Optimization terminated successfully.'\n",
       "    nfev: 126\n",
       "     nit: 9\n",
       "    njev: 9\n",
       "  status: 0\n",
       " success: True\n",
       "       x: array([8.86524020e-13, 9.17311745e-01, 0.00000000e+00, 6.72648326e-12,\n",
       "       1.67954176e-02, 0.00000000e+00, 0.00000000e+00, 0.00000000e+00,\n",
       "       5.56176004e-03, 3.88372076e-12, 6.03310770e-02, 3.36311905e-12])"
      ]
     },
     "execution_count": 100,
     "metadata": {},
     "output_type": "execute_result"
    }
   ],
   "source": [
    "res"
   ]
  },
  {
   "cell_type": "code",
   "execution_count": 128,
   "metadata": {},
   "outputs": [
    {
     "data": {
      "text/plain": [
       "array([8.86524020e-13, 9.17311745e-01, 0.00000000e+00, 6.72648326e-12,\n",
       "       1.67954176e-02, 0.00000000e+00, 0.00000000e+00, 0.00000000e+00,\n",
       "       5.56176004e-03, 3.88372076e-12, 6.03310770e-02, 3.36311905e-12])"
      ]
     },
     "execution_count": 128,
     "metadata": {},
     "output_type": "execute_result"
    }
   ],
   "source": [
    "w_minv_new = res.x\n",
    "w_minv_new"
   ]
  },
  {
   "cell_type": "markdown",
   "metadata": {},
   "source": [
    "#### minimum variance portfolio"
   ]
  },
  {
   "cell_type": "code",
   "execution_count": 112,
   "metadata": {},
   "outputs": [
    {
     "data": {
      "text/plain": [
       "{'Bloomberg Barclays - U.S. TIPS Index': 8.865240197022431e-13,\n",
       " 'Bloomberg Barclays - U.S. Aggregate Index': 0.9173117453277859,\n",
       " 'BofA Merrill Lynch - U.S. High Yield Index': 0.0,\n",
       " 'FTSE - Non U.S. Govt Bond Index ($)': 6.7264832570234675e-12,\n",
       " 'Russell - 1000 Growth Index': 0.016795417606293876,\n",
       " 'Russell - 1000 Value Index': 0.0,\n",
       " 'Russell - 2000 Growth Index': 0.0,\n",
       " 'Russell - 2000 Value Index': 0.0,\n",
       " 'MSCI - EAFE Index ($Net)': 0.00556176003925995,\n",
       " 'MSCI - Emerging Markets Index ($ Net)': 3.8837207602331826e-12,\n",
       " 'S&P - GSCI Total Index': 0.060331077025786065,\n",
       " 'MSCI - U.S. REIT Index': 3.363119045514954e-12}"
      ]
     },
     "execution_count": 112,
     "metadata": {},
     "output_type": "execute_result"
    }
   ],
   "source": [
    "{k:v for k,v in zip(data2.columns,res.x)}"
   ]
  },
  {
   "cell_type": "markdown",
   "metadata": {},
   "source": [
    "### 2"
   ]
  },
  {
   "cell_type": "code",
   "execution_count": 116,
   "metadata": {},
   "outputs": [],
   "source": [
    "def maxsharpe(w,expret,sigma):\n",
    "    return -w.dot(expret)/(w.dot(sigma).dot(w.transpose()))\n",
    "constraint2 = optimize.LinearConstraint(e.transpose(), lb=1, ub=1)\n",
    "res2 = optimize.minimize(\n",
    "    maxsharpe, x0=[1 for i in range(len(data2.columns))], args=(expret,sigma,), constraints=constraint2, bounds=[(0, 1) for i in range(len(data2.columns))],\n",
    ")"
   ]
  },
  {
   "cell_type": "code",
   "execution_count": 117,
   "metadata": {},
   "outputs": [
    {
     "data": {
      "text/plain": [
       "     fun: -0.4515685007654214\n",
       "     jac: array([0.72095275, 0.45175139, 0.45183031, 0.98840909, 0.44742654,\n",
       "       0.44898604, 0.47436273, 0.44998819, 1.05383268, 0.92228372,\n",
       "       0.44912842, 1.56396586])\n",
       " message: 'Optimization terminated successfully.'\n",
       "    nfev: 188\n",
       "     nit: 13\n",
       "    njev: 13\n",
       "  status: 0\n",
       " success: True\n",
       "       x: array([0.00000000e+00, 9.20116352e-01, 8.69852556e-03, 0.00000000e+00,\n",
       "       1.08745326e-02, 3.10353732e-02, 1.79530839e-15, 2.72412929e-02,\n",
       "       0.00000000e+00, 0.00000000e+00, 2.03392421e-03, 0.00000000e+00])"
      ]
     },
     "execution_count": 117,
     "metadata": {},
     "output_type": "execute_result"
    }
   ],
   "source": [
    "res2"
   ]
  },
  {
   "cell_type": "code",
   "execution_count": 125,
   "metadata": {},
   "outputs": [],
   "source": [
    "w_msr_new = res2.x"
   ]
  },
  {
   "cell_type": "markdown",
   "metadata": {},
   "source": [
    "#### maximum sharpe ratio portfolio"
   ]
  },
  {
   "cell_type": "code",
   "execution_count": 119,
   "metadata": {},
   "outputs": [
    {
     "data": {
      "text/plain": [
       "{'Bloomberg Barclays - U.S. TIPS Index': 0.0,\n",
       " 'Bloomberg Barclays - U.S. Aggregate Index': 0.9201163515438098,\n",
       " 'BofA Merrill Lynch - U.S. High Yield Index': 0.008698525561086362,\n",
       " 'FTSE - Non U.S. Govt Bond Index ($)': 0.0,\n",
       " 'Russell - 1000 Growth Index': 0.010874532583113829,\n",
       " 'Russell - 1000 Value Index': 0.031035373241328986,\n",
       " 'Russell - 2000 Growth Index': 1.7953083929629315e-15,\n",
       " 'Russell - 2000 Value Index': 0.027241292862725322,\n",
       " 'MSCI - EAFE Index ($Net)': 0.0,\n",
       " 'MSCI - Emerging Markets Index ($ Net)': 0.0,\n",
       " 'S&P - GSCI Total Index': 0.0020339242080750575,\n",
       " 'MSCI - U.S. REIT Index': 0.0}"
      ]
     },
     "execution_count": 119,
     "metadata": {},
     "output_type": "execute_result"
    }
   ],
   "source": [
    "{k:v for k,v in zip(data2.columns,res2.x)}"
   ]
  },
  {
   "cell_type": "code",
   "execution_count": 121,
   "metadata": {},
   "outputs": [],
   "source": [
    "def maxret(w,expret):\n",
    "    return -w.dot(expret)\n",
    "res3 = optimize.minimize(\n",
    "    maxret, x0=[1 for i in range(len(data2.columns))], args=(expret,), constraints=constraint2, bounds=[(0, 1) for i in range(len(data2.columns))],\n",
    ")"
   ]
  },
  {
   "cell_type": "code",
   "execution_count": 122,
   "metadata": {},
   "outputs": [
    {
     "data": {
      "text/plain": [
       "     fun: -9.651476941933502\n",
       "     jac: array([-5.20474601, -4.54906082, -6.3018198 , -3.40464735, -5.05479884,\n",
       "       -6.15428269, -6.1399492 , -8.22770202, -3.52112997, -8.51777411,\n",
       "       -0.56975424, -9.65147698])\n",
       " message: 'Optimization terminated successfully.'\n",
       "    nfev: 28\n",
       "     nit: 2\n",
       "    njev: 2\n",
       "  status: 0\n",
       " success: True\n",
       "       x: array([0.00000000e+00, 0.00000000e+00, 6.43929354e-15, 0.00000000e+00,\n",
       "       0.00000000e+00, 6.77236045e-15, 3.99680289e-15, 2.19824159e-14,\n",
       "       0.00000000e+00, 2.19824159e-14, 0.00000000e+00, 1.00000000e+00])"
      ]
     },
     "execution_count": 122,
     "metadata": {},
     "output_type": "execute_result"
    }
   ],
   "source": [
    "res3"
   ]
  },
  {
   "cell_type": "code",
   "execution_count": 126,
   "metadata": {},
   "outputs": [],
   "source": [
    "w_mr_new =res3.x"
   ]
  },
  {
   "cell_type": "markdown",
   "metadata": {},
   "source": [
    "#### maximum return portfolio"
   ]
  },
  {
   "cell_type": "code",
   "execution_count": 124,
   "metadata": {},
   "outputs": [
    {
     "data": {
      "text/plain": [
       "{'Bloomberg Barclays - U.S. TIPS Index': 0.0,\n",
       " 'Bloomberg Barclays - U.S. Aggregate Index': 0.0,\n",
       " 'BofA Merrill Lynch - U.S. High Yield Index': 6.439293542825908e-15,\n",
       " 'FTSE - Non U.S. Govt Bond Index ($)': 0.0,\n",
       " 'Russell - 1000 Growth Index': 0.0,\n",
       " 'Russell - 1000 Value Index': 6.772360450213455e-15,\n",
       " 'Russell - 2000 Growth Index': 3.9968028886505635e-15,\n",
       " 'Russell - 2000 Value Index': 2.19824158875781e-14,\n",
       " 'MSCI - EAFE Index ($Net)': 0.0,\n",
       " 'MSCI - Emerging Markets Index ($ Net)': 2.19824158875781e-14,\n",
       " 'S&P - GSCI Total Index': 0.0,\n",
       " 'MSCI - U.S. REIT Index': 1.0}"
      ]
     },
     "execution_count": 124,
     "metadata": {},
     "output_type": "execute_result"
    }
   ],
   "source": [
    "{k:v for k,v in zip(data2.columns,res3.x)}"
   ]
  },
  {
   "cell_type": "markdown",
   "metadata": {},
   "source": [
    "### 3."
   ]
  },
  {
   "cell_type": "code",
   "execution_count": 167,
   "metadata": {},
   "outputs": [],
   "source": [
    "def old_wt(c):\n",
    "    return (1-c)*w_minv+c*w_msr\n",
    "def old_ret(c):\n",
    "    return old_wt(c).dot(expret)\n",
    "def old_risk(c):\n",
    "    return np.sqrt(old_wt(c).transpose().dot(sigma).dot(old_wt(c)))\n",
    "def new_wt(c):\n",
    "    return (1-c)*w_minv_new+c*w_msr_new\n",
    "def new_ret(c):\n",
    "    return new_wt(c).dot(expret)\n",
    "def new_risk(c):\n",
    "    return np.sqrt(new_wt(c).transpose().dot(sigma).dot(new_wt(c)))"
   ]
  },
  {
   "cell_type": "code",
   "execution_count": 175,
   "metadata": {},
   "outputs": [],
   "source": [
    "old_risk_list,old_ret_list,new_risk_list,new_ret_list = [],[],[],[]\n",
    "for i in range(10):\n",
    "    old_risk_list.append(old_risk(i))\n",
    "    old_ret_list.append(old_ret(i))\n",
    "    new_risk_list.append(new_risk(i))\n",
    "    new_ret_list.append(new_ret(i))"
   ]
  },
  {
   "cell_type": "code",
   "execution_count": 178,
   "metadata": {},
   "outputs": [
    {
     "data": {
      "image/png": "[encoded data removed]",
      "text/plain": [
       "<Figure size 432x288 with 1 Axes>"
      ]
     },
     "metadata": {
      "needs_background": "light"
     },
     "output_type": "display_data"
    }
   ],
   "source": [
    "plt.plot(old_risk_list,old_ret_list, label = 'Old')\n",
    "plt.plot(new_risk_list,new_ret_list,label = 'New')\n",
    "plt.xlabel('Risk')\n",
    "plt.xlim(0,10)\n",
    "plt.ylabel('Return')\n",
    "plt.ylim(0,12)\n",
    "plt.legend();"
   ]
  },
  {
   "cell_type": "code",
   "execution_count": null,
   "metadata": {},
   "outputs": [],
   "source": []
  }
 ],
 "metadata": {
  "kernelspec": {
   "display_name": "Python 3",
   "language": "python",
   "name": "python3"
  },
  "language_info": {
   "codemirror_mode": {
    "name": "ipython",
    "version": 3
   },
   "file_extension": ".py",
   "mimetype": "text/x-python",
   "name": "python",
   "nbconvert_exporter": "python",
   "pygments_lexer": "ipython3",
   "version": "3.8.3"
  }
 },
 "nbformat": 4,
 "nbformat_minor": 2
}
